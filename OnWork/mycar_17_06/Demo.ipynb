{
 "cells": [
  {
   "cell_type": "markdown",
   "metadata": {},
   "source": [
    "# Démo Donkey Car\n",
    "\n",
    "Je vais ecrire ici tout les code relatif aux video d'introduction au framewrok Donkey Car.\n",
    "Je vais aussi écrire les détail et commentaire important!\n",
    "\n",
    "## Vidéo 1 : Donkey Car parts overview\n",
    "https://www.youtube.com/watch?v=YZ4ESrtfShs"
   ]
  },
  {
   "cell_type": "markdown",
   "metadata": {},
   "source": [
    "Dans l'environnement conda jupyter n'est pas installé par default, pour l'installer : \n",
    "pip install notebook\n",
    "\n",
    "Testons voir si ça marche avec un print basic "
   ]
  },
  {
   "cell_type": "code",
   "execution_count": null,
   "metadata": {},
   "outputs": [
    {
     "name": "stdout",
     "output_type": "stream",
     "text": [
      "Hello Donkey !\n"
     ]
    }
   ],
   "source": [
    "print(\"Hello Donkey !\")"
   ]
  },
  {
   "cell_type": "markdown",
   "metadata": {},
   "source": [
    "Nous pouvons commencer le tuto\n",
    "\n",
    "### La boucle principale [0:00]\n",
    "Nous importons le framework donkeycar et creons un vehicule\n",
    "V est un conteneur"
   ]
  },
  {
   "cell_type": "code",
   "execution_count": 1,
   "metadata": {},
   "outputs": [
    {
     "name": "stdout",
     "output_type": "stream",
     "text": [
      "________             ______                   _________              \n",
      "___  __ \\_______________  /___________  __    __  ____/_____ ________\n",
      "__  / / /  __ \\_  __ \\_  //_/  _ \\_  / / /    _  /    _  __ `/_  ___/\n",
      "_  /_/ // /_/ /  / / /  ,<  /  __/  /_/ /     / /___  / /_/ /_  /    \n",
      "/_____/ \\____//_/ /_//_/|_| \\___/_\\__, /      \\____/  \\__,_/ /_/     \n",
      "                                 /____/                              \n",
      "\n",
      "using donkey v4.3.6.3 ...\n"
     ]
    },
    {
     "name": "stderr",
     "output_type": "stream",
     "text": [
      "INFO:donkeycar.vehicle:Starting vehicle at 10 Hz\n",
      "INFO:donkeycar.vehicle:Shutting down vehicle and its parts...\n",
      "INFO:donkeycar.vehicle:Part Profile Summary: (times in ms)\n",
      "INFO:donkeycar.vehicle:\n",
      "+------+-----+-----+-----+-----+-----+-----+-------+\n",
      "| part | max | min | avg | 50% | 90% | 99% | 99.9% |\n",
      "+------+-----+-----+-----+-----+-----+-----+-------+\n",
      "+------+-----+-----+-----+-----+-----+-----+-------+\n"
     ]
    }
   ],
   "source": [
    "from donkeycar.vehicle import Vehicle\n",
    "\n",
    "V = Vehicle()\n",
    "\n",
    "V.start() #Red Mark"
   ]
  },
  {
   "cell_type": "markdown",
   "metadata": {},
   "source": [
    "On met une red mark et on utilise le mode debug\n",
    "Cela nous permet de regarde ce qui se passe dans le code\n",
    "\n",
    "On remarque que dans la boucle principal il y a 2 choses : \n",
    "- Update Parts\n",
    "- la gestion de refresh rate\n",
    "\n",
    "### Création d'une parts (openCV) [4:25]\n",
    "\n",
    "Créatin d'un nouveau fichier python : test_cam.py"
   ]
  }
 ],
 "metadata": {
  "kernelspec": {
   "display_name": "Python 3.9.12 ('base': conda)",
   "language": "python",
   "name": "python3"
  },
  "language_info": {
   "codemirror_mode": {
    "name": "ipython",
    "version": 3
   },
   "file_extension": ".py",
   "mimetype": "text/x-python",
   "name": "python",
   "nbconvert_exporter": "python",
   "pygments_lexer": "ipython3",
   "version": "3.9.12"
  },
  "orig_nbformat": 4,
  "vscode": {
   "interpreter": {
    "hash": "de171a0ab2659654a7fe017c1c8ce8db59c7e46ff23f7ccb4da50d788bc1ca72"
   }
  }
 },
 "nbformat": 4,
 "nbformat_minor": 2
}
